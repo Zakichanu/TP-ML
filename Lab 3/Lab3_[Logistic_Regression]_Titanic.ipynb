{
 "cells": [
  {
   "cell_type": "markdown",
   "metadata": {
    "id": "UpG7Nd4v9Xca"
   },
   "source": [
    "# Predict survival on the Titanic\n",
    "In this Lab, we ask you to apply the tools of machine learning to predict which passengers survived the tragedy"
   ]
  },
  {
   "cell_type": "markdown",
   "metadata": {
    "id": "PzbOp32s9Xcf",
    "tags": []
   },
   "source": [
    "### Dataset\n",
    "The dataset contains 891 observations of 12 variables:\n",
    "* **PassengerId**: Unique ID for each passenger\n",
    "* **Survived**: Survival (0 = No; 1 = Yes)\n",
    "* **Pclass**: Passenger Class (1 = 1st; 2 = 2nd; 3 = 3rd)\n",
    "* **Name**: Name\n",
    "* **Sex**: Sex\n",
    "* **Age**: Age\n",
    "* **Sibsp**: Number of Siblings/Spouses Aboard\n",
    "* **Parch**: Number of Parents/Children Aboard\n",
    "* **Ticket**: Ticket Number\n",
    "* **Fare**: Passenger Fare\n",
    "* **Cabin**: Cabin\n",
    "* **Embarked** Port of Embarkation (C = Cherbourg; Q = Queenstown; S = Southampton)"
   ]
  },
  {
   "cell_type": "code",
   "execution_count": 4,
   "metadata": {
    "id": "p4ZCTpyI9Xch",
    "pycharm": {
     "is_executing": true
    }
   },
   "outputs": [],
   "source": [
    "# imports\n",
    "import warnings\n",
    "warnings.filterwarnings('ignore')\n",
    "# your code here"
   ]
  },
  {
   "cell_type": "code",
   "execution_count": 5,
   "metadata": {},
   "outputs": [],
   "source": [
    "import pandas as pd\n",
    "\n",
    "import matplotlib.pyplot as plt\n",
    "%matplotlib inline"
   ]
  },
  {
   "cell_type": "code",
   "execution_count": 6,
   "metadata": {
    "id": "3Kn5vXEB9Xcj"
   },
   "outputs": [
    {
     "data": {
      "text/html": [
       "<div>\n",
       "<style scoped>\n",
       "    .dataframe tbody tr th:only-of-type {\n",
       "        vertical-align: middle;\n",
       "    }\n",
       "\n",
       "    .dataframe tbody tr th {\n",
       "        vertical-align: top;\n",
       "    }\n",
       "\n",
       "    .dataframe thead th {\n",
       "        text-align: right;\n",
       "    }\n",
       "</style>\n",
       "<table border=\"1\" class=\"dataframe\">\n",
       "  <thead>\n",
       "    <tr style=\"text-align: right;\">\n",
       "      <th></th>\n",
       "      <th>PassengerId</th>\n",
       "      <th>Survived</th>\n",
       "      <th>Pclass</th>\n",
       "      <th>Name</th>\n",
       "      <th>Sex</th>\n",
       "      <th>Age</th>\n",
       "      <th>SibSp</th>\n",
       "      <th>Parch</th>\n",
       "      <th>Ticket</th>\n",
       "      <th>Fare</th>\n",
       "      <th>Cabin</th>\n",
       "      <th>Embarked</th>\n",
       "    </tr>\n",
       "  </thead>\n",
       "  <tbody>\n",
       "    <tr>\n",
       "      <th>0</th>\n",
       "      <td>1</td>\n",
       "      <td>0</td>\n",
       "      <td>3</td>\n",
       "      <td>Braund, Mr. Owen Harris</td>\n",
       "      <td>male</td>\n",
       "      <td>22.0</td>\n",
       "      <td>1</td>\n",
       "      <td>0</td>\n",
       "      <td>A/5 21171</td>\n",
       "      <td>7.2500</td>\n",
       "      <td>NaN</td>\n",
       "      <td>S</td>\n",
       "    </tr>\n",
       "    <tr>\n",
       "      <th>1</th>\n",
       "      <td>2</td>\n",
       "      <td>1</td>\n",
       "      <td>1</td>\n",
       "      <td>Cumings, Mrs. John Bradley (Florence Briggs Th...</td>\n",
       "      <td>female</td>\n",
       "      <td>38.0</td>\n",
       "      <td>1</td>\n",
       "      <td>0</td>\n",
       "      <td>PC 17599</td>\n",
       "      <td>71.2833</td>\n",
       "      <td>C85</td>\n",
       "      <td>C</td>\n",
       "    </tr>\n",
       "    <tr>\n",
       "      <th>2</th>\n",
       "      <td>3</td>\n",
       "      <td>1</td>\n",
       "      <td>3</td>\n",
       "      <td>Heikkinen, Miss. Laina</td>\n",
       "      <td>female</td>\n",
       "      <td>26.0</td>\n",
       "      <td>0</td>\n",
       "      <td>0</td>\n",
       "      <td>STON/O2. 3101282</td>\n",
       "      <td>7.9250</td>\n",
       "      <td>NaN</td>\n",
       "      <td>S</td>\n",
       "    </tr>\n",
       "    <tr>\n",
       "      <th>3</th>\n",
       "      <td>4</td>\n",
       "      <td>1</td>\n",
       "      <td>1</td>\n",
       "      <td>Futrelle, Mrs. Jacques Heath (Lily May Peel)</td>\n",
       "      <td>female</td>\n",
       "      <td>35.0</td>\n",
       "      <td>1</td>\n",
       "      <td>0</td>\n",
       "      <td>113803</td>\n",
       "      <td>53.1000</td>\n",
       "      <td>C123</td>\n",
       "      <td>S</td>\n",
       "    </tr>\n",
       "    <tr>\n",
       "      <th>4</th>\n",
       "      <td>5</td>\n",
       "      <td>0</td>\n",
       "      <td>3</td>\n",
       "      <td>Allen, Mr. William Henry</td>\n",
       "      <td>male</td>\n",
       "      <td>35.0</td>\n",
       "      <td>0</td>\n",
       "      <td>0</td>\n",
       "      <td>373450</td>\n",
       "      <td>8.0500</td>\n",
       "      <td>NaN</td>\n",
       "      <td>S</td>\n",
       "    </tr>\n",
       "  </tbody>\n",
       "</table>\n",
       "</div>"
      ],
      "text/plain": [
       "   PassengerId  Survived  Pclass  \\\n",
       "0            1         0       3   \n",
       "1            2         1       1   \n",
       "2            3         1       3   \n",
       "3            4         1       1   \n",
       "4            5         0       3   \n",
       "\n",
       "                                                Name     Sex   Age  SibSp  \\\n",
       "0                            Braund, Mr. Owen Harris    male  22.0      1   \n",
       "1  Cumings, Mrs. John Bradley (Florence Briggs Th...  female  38.0      1   \n",
       "2                             Heikkinen, Miss. Laina  female  26.0      0   \n",
       "3       Futrelle, Mrs. Jacques Heath (Lily May Peel)  female  35.0      1   \n",
       "4                           Allen, Mr. William Henry    male  35.0      0   \n",
       "\n",
       "   Parch            Ticket     Fare Cabin Embarked  \n",
       "0      0         A/5 21171   7.2500   NaN        S  \n",
       "1      0          PC 17599  71.2833   C85        C  \n",
       "2      0  STON/O2. 3101282   7.9250   NaN        S  \n",
       "3      0            113803  53.1000  C123        S  \n",
       "4      0            373450   8.0500   NaN        S  "
      ]
     },
     "execution_count": 6,
     "metadata": {},
     "output_type": "execute_result"
    }
   ],
   "source": [
    "titanic = pd.read_csv(\"titanic.csv\")\n",
    "titanic.head()"
   ]
  },
  {
   "cell_type": "code",
   "execution_count": 7,
   "metadata": {
    "id": "5R3HTRZ29Xck"
   },
   "outputs": [
    {
     "name": "stdout",
     "output_type": "stream",
     "text": [
      "the data frame has a shape : (891, 12)\n"
     ]
    }
   ],
   "source": [
    "# print some info about the dataframe\n",
    "print ('the data frame has a shape :', titanic.shape)"
   ]
  },
  {
   "cell_type": "markdown",
   "metadata": {
    "id": "eaeMDHTJ9Xck"
   },
   "source": [
    "Looks like there are some Nan values, let's see how many for each column"
   ]
  },
  {
   "cell_type": "code",
   "execution_count": 8,
   "metadata": {
    "id": "5AI_2olL9Xck"
   },
   "outputs": [
    {
     "data": {
      "text/plain": [
       "PassengerId      0\n",
       "Survived         0\n",
       "Pclass           0\n",
       "Name             0\n",
       "Sex              0\n",
       "Age            177\n",
       "SibSp            0\n",
       "Parch            0\n",
       "Ticket           0\n",
       "Fare             0\n",
       "Cabin          687\n",
       "Embarked         2\n",
       "dtype: int64"
      ]
     },
     "execution_count": 8,
     "metadata": {},
     "output_type": "execute_result"
    }
   ],
   "source": [
    "titanic.isnull().sum()"
   ]
  },
  {
   "cell_type": "markdown",
   "metadata": {
    "id": "rsjzeWQA9Xcl"
   },
   "source": [
    "**Cabin** contains a lot of Nan values, we'll drop this column <br>\n",
    "We'll replace the Nan values in **Age** with the age's median, and the ones in **Embarked** with **'S'**, which is the most frequent one in this column"
   ]
  },
  {
   "cell_type": "code",
   "execution_count": 9,
   "metadata": {
    "id": "fg6Yzqkc9Xcm"
   },
   "outputs": [
    {
     "data": {
      "text/plain": [
       "PassengerId    0\n",
       "Survived       0\n",
       "Pclass         0\n",
       "Name           0\n",
       "Sex            0\n",
       "Age            0\n",
       "SibSp          0\n",
       "Parch          0\n",
       "Ticket         0\n",
       "Fare           0\n",
       "Embarked       0\n",
       "dtype: int64"
      ]
     },
     "execution_count": 9,
     "metadata": {},
     "output_type": "execute_result"
    }
   ],
   "source": [
    "# your code here to drop Cabin\n",
    "titanic = titanic.drop(['Cabin'], axis= 1)\n",
    "# check the fillna documentation: http://pandas.pydata.org/pandas-docs/stable/generated/pandas.DataFrame.fillna.html\n",
    "titanic[\"Age\"]= titanic[\"Age\"].fillna(titanic[\"Age\"].median())\n",
    "titanic[\"Embarked\"] = titanic[\"Embarked\"].fillna('S')\n",
    "titanic.isnull().sum()"
   ]
  },
  {
   "cell_type": "markdown",
   "metadata": {
    "id": "8lO-sbAc9Xcn"
   },
   "source": [
    "## Visualization"
   ]
  },
  {
   "cell_type": "code",
   "execution_count": 10,
   "metadata": {
    "id": "pPZdkF3K9Xcn"
   },
   "outputs": [
    {
     "name": "stdout",
     "output_type": "stream",
     "text": [
      "survival rate = 0.3838383838383838\n"
     ]
    },
    {
     "data": {
      "text/plain": [
       "<AxesSubplot:title={'center':\"Label's Balance\"}, xlabel='Survived'>"
      ]
     },
     "execution_count": 10,
     "metadata": {},
     "output_type": "execute_result"
    },
    {
     "data": {
      "image/png": "[encoded data removed]",
      "text/plain": [
       "<Figure size 432x288 with 1 Axes>"
      ]
     },
     "metadata": {
      "needs_background": "light"
     },
     "output_type": "display_data"
    }
   ],
   "source": [
    "%matplotlib inline\n",
    "import matplotlib.pyplot as plt\n",
    "print ('survival rate =', titanic.Survived.mean())\n",
    "(titanic.groupby('Survived').size()/titanic.shape[0]).plot(kind=\"bar\",title=\"Label's Balance\")\n"
   ]
  },
  {
   "cell_type": "markdown",
   "metadata": {},
   "source": [
    "### Comment\n",
    "#### Here we got the average of people who survived (or not) the disaster, most of them, unfortunately, didn't survive."
   ]
  },
  {
   "cell_type": "code",
   "execution_count": 11,
   "metadata": {
    "id": "mVjSojhJ9Xco"
   },
   "outputs": [],
   "source": [
    "# make a function to plot survival against passenger attribute\n",
    "def survival_rate(column,t):\n",
    "    df=pd.DataFrame()\n",
    "    df['total']=titanic.groupby(column).size()\n",
    "    df['survived'] = titanic.groupby(column).sum()['Survived']\n",
    "    df['percentage'] = round(df['survived']/df['total']*100,2)\n",
    "    print(df)\n",
    "\n",
    "    df['survived'].plot(kind=t)\n",
    "    df['total'].plot(kind=t,alpha=0.5,title=\"Survivors per \"+str(column))\n",
    "    plt.show()"
   ]
  },
  {
   "cell_type": "code",
   "execution_count": 12,
   "metadata": {
    "id": "e9Ds55q79Xco"
   },
   "outputs": [
    {
     "name": "stdout",
     "output_type": "stream",
     "text": [
      "        total  survived  percentage\n",
      "Sex                                \n",
      "female    314       233       74.20\n",
      "male      577       109       18.89\n"
     ]
    },
    {
     "data": {
      "image/png": "[encoded data removed]",
      "text/plain": [
       "<Figure size 432x288 with 1 Axes>"
      ]
     },
     "metadata": {
      "needs_background": "light"
     },
     "output_type": "display_data"
    }
   ],
   "source": [
    "# Draw survival per Sex\n",
    "survival_rate(\"Sex\",\"barh\")"
   ]
  },
  {
   "cell_type": "markdown",
   "metadata": {},
   "source": [
    "### Comment\n",
    "##### We can see that there was more men registered in the boat but even though, more women survived, we can maybe explain this by the fact that women have priority over men in rescuing people (which is normal)"
   ]
  },
  {
   "cell_type": "code",
   "execution_count": 13,
   "metadata": {
    "id": "ESv52uFP9Xcp"
   },
   "outputs": [
    {
     "name": "stdout",
     "output_type": "stream",
     "text": [
      "        total  survived  percentage\n",
      "Pclass                             \n",
      "1         216       136       62.96\n",
      "2         184        87       47.28\n",
      "3         491       119       24.24\n"
     ]
    },
    {
     "data": {
      "image/png": "[encoded data removed]",
      "text/plain": [
       "<Figure size 432x288 with 1 Axes>"
      ]
     },
     "metadata": {
      "needs_background": "light"
     },
     "output_type": "display_data"
    }
   ],
   "source": [
    "# Draw survival per Class\n",
    "survival_rate(\"Pclass\",\"barh\")"
   ]
  },
  {
   "cell_type": "markdown",
   "metadata": {},
   "source": [
    "### Comment\n",
    "#### You have a better probability to survive when you are in 1st class than the others"
   ]
  },
  {
   "cell_type": "code",
   "execution_count": 14,
   "metadata": {
    "id": "YrTGe5Yw9Xcp"
   },
   "outputs": [
    {
     "name": "stdout",
     "output_type": "stream",
     "text": [
      "          total  survived  percentage\n",
      "Embarked                             \n",
      "C           168        93       55.36\n",
      "Q            77        30       38.96\n",
      "S           646       219       33.90\n"
     ]
    },
    {
     "data": {
      "image/png": "[encoded data removed]",
      "text/plain": [
       "<Figure size 432x288 with 1 Axes>"
      ]
     },
     "metadata": {
      "needs_background": "light"
     },
     "output_type": "display_data"
    }
   ],
   "source": [
    "# Graph survived per port of embarkation\n",
    "survival_rate(\"Embarked\",\"bar\")"
   ]
  },
  {
   "cell_type": "markdown",
   "metadata": {},
   "source": [
    "#### Comment\n",
    "##### People who embarked from cherbourg survived more than the two others, we don't have explanation for this"
   ]
  },
  {
   "cell_type": "code",
   "execution_count": 15,
   "metadata": {
    "id": "HMoRYtzq9Xcp"
   },
   "outputs": [
    {
     "name": "stdout",
     "output_type": "stream",
     "text": [
      "       total  survived  percentage\n",
      "Parch                             \n",
      "0        678       233       34.37\n",
      "1        118        65       55.08\n",
      "2         80        40       50.00\n",
      "3          5         3       60.00\n",
      "4          4         0        0.00\n",
      "5          5         1       20.00\n",
      "6          1         0        0.00\n"
     ]
    },
    {
     "data": {
      "image/png": "[encoded data removed]",
      "text/plain": [
       "<Figure size 432x288 with 1 Axes>"
      ]
     },
     "metadata": {
      "needs_background": "light"
     },
     "output_type": "display_data"
    }
   ],
   "source": [
    "# Draw survived per Number of Parents/Children Aboard (Parch)\n",
    "survival_rate(\"Parch\",\"barh\")"
   ]
  },
  {
   "cell_type": "markdown",
   "metadata": {},
   "source": [
    "### Coment \n",
    "#### There is not much to say here, I think the more parent/children you have, it's pretty more difficult to survived in this type of situation"
   ]
  },
  {
   "cell_type": "code",
   "execution_count": 16,
   "metadata": {
    "id": "FN4wuUhv9Xcp"
   },
   "outputs": [
    {
     "name": "stdout",
     "output_type": "stream",
     "text": [
      "       total  survived  percentage\n",
      "SibSp                             \n",
      "0        608       210       34.54\n",
      "1        209       112       53.59\n",
      "2         28        13       46.43\n",
      "3         16         4       25.00\n",
      "4         18         3       16.67\n",
      "5          5         0        0.00\n",
      "8          7         0        0.00\n"
     ]
    },
    {
     "data": {
      "image/png": "[encoded data removed]",
      "text/plain": [
       "<Figure size 432x288 with 1 Axes>"
      ]
     },
     "metadata": {
      "needs_background": "light"
     },
     "output_type": "display_data"
    }
   ],
   "source": [
    "# Draw survived per Number of Siblings/Spouses Aboard (SibSp)\n",
    "survival_rate(\"SibSp\",\"barh\")"
   ]
  },
  {
   "cell_type": "markdown",
   "metadata": {},
   "source": [
    "### Comment\n",
    "#### We got almost the result as the graph above it, same description..."
   ]
  },
  {
   "cell_type": "markdown",
   "metadata": {
    "id": "-fEc4HUu9Xcq"
   },
   "source": [
    "## Model training"
   ]
  },
  {
   "cell_type": "markdown",
   "metadata": {
    "id": "SpAeGxFl9Xcq"
   },
   "source": [
    "Some of the columns don't have predictive power, so let's specify which ones are included for prediction"
   ]
  },
  {
   "cell_type": "code",
   "execution_count": 17,
   "metadata": {
    "id": "ZFt_bUDH9Xcq"
   },
   "outputs": [],
   "source": [
    "predictors = [\"Pclass\", \"Sex\", \"Age\", 'SibSp' ,'Parch', \"Fare\", \"Embarked\"]  "
   ]
  },
  {
   "cell_type": "markdown",
   "metadata": {
    "id": "4QReR82E9Xcq"
   },
   "source": [
    "We need now to convert text columns in **predictors** to numerical ones"
   ]
  },
  {
   "cell_type": "code",
   "execution_count": 18,
   "metadata": {
    "id": "XxK-7mYN9Xcr"
   },
   "outputs": [
    {
     "data": {
      "text/html": [
       "<div>\n",
       "<style scoped>\n",
       "    .dataframe tbody tr th:only-of-type {\n",
       "        vertical-align: middle;\n",
       "    }\n",
       "\n",
       "    .dataframe tbody tr th {\n",
       "        vertical-align: top;\n",
       "    }\n",
       "\n",
       "    .dataframe thead th {\n",
       "        text-align: right;\n",
       "    }\n",
       "</style>\n",
       "<table border=\"1\" class=\"dataframe\">\n",
       "  <thead>\n",
       "    <tr style=\"text-align: right;\">\n",
       "      <th></th>\n",
       "      <th>PassengerId</th>\n",
       "      <th>Survived</th>\n",
       "      <th>Pclass</th>\n",
       "      <th>Name</th>\n",
       "      <th>Sex</th>\n",
       "      <th>Age</th>\n",
       "      <th>SibSp</th>\n",
       "      <th>Parch</th>\n",
       "      <th>Ticket</th>\n",
       "      <th>Fare</th>\n",
       "      <th>Embarked</th>\n",
       "    </tr>\n",
       "  </thead>\n",
       "  <tbody>\n",
       "    <tr>\n",
       "      <th>0</th>\n",
       "      <td>1</td>\n",
       "      <td>0</td>\n",
       "      <td>3</td>\n",
       "      <td>Braund, Mr. Owen Harris</td>\n",
       "      <td>1</td>\n",
       "      <td>22.0</td>\n",
       "      <td>1</td>\n",
       "      <td>0</td>\n",
       "      <td>A/5 21171</td>\n",
       "      <td>7.2500</td>\n",
       "      <td>2</td>\n",
       "    </tr>\n",
       "    <tr>\n",
       "      <th>1</th>\n",
       "      <td>2</td>\n",
       "      <td>1</td>\n",
       "      <td>1</td>\n",
       "      <td>Cumings, Mrs. John Bradley (Florence Briggs Th...</td>\n",
       "      <td>0</td>\n",
       "      <td>38.0</td>\n",
       "      <td>1</td>\n",
       "      <td>0</td>\n",
       "      <td>PC 17599</td>\n",
       "      <td>71.2833</td>\n",
       "      <td>0</td>\n",
       "    </tr>\n",
       "    <tr>\n",
       "      <th>2</th>\n",
       "      <td>3</td>\n",
       "      <td>1</td>\n",
       "      <td>3</td>\n",
       "      <td>Heikkinen, Miss. Laina</td>\n",
       "      <td>0</td>\n",
       "      <td>26.0</td>\n",
       "      <td>0</td>\n",
       "      <td>0</td>\n",
       "      <td>STON/O2. 3101282</td>\n",
       "      <td>7.9250</td>\n",
       "      <td>2</td>\n",
       "    </tr>\n",
       "    <tr>\n",
       "      <th>3</th>\n",
       "      <td>4</td>\n",
       "      <td>1</td>\n",
       "      <td>1</td>\n",
       "      <td>Futrelle, Mrs. Jacques Heath (Lily May Peel)</td>\n",
       "      <td>0</td>\n",
       "      <td>35.0</td>\n",
       "      <td>1</td>\n",
       "      <td>0</td>\n",
       "      <td>113803</td>\n",
       "      <td>53.1000</td>\n",
       "      <td>2</td>\n",
       "    </tr>\n",
       "    <tr>\n",
       "      <th>4</th>\n",
       "      <td>5</td>\n",
       "      <td>0</td>\n",
       "      <td>3</td>\n",
       "      <td>Allen, Mr. William Henry</td>\n",
       "      <td>1</td>\n",
       "      <td>35.0</td>\n",
       "      <td>0</td>\n",
       "      <td>0</td>\n",
       "      <td>373450</td>\n",
       "      <td>8.0500</td>\n",
       "      <td>2</td>\n",
       "    </tr>\n",
       "  </tbody>\n",
       "</table>\n",
       "</div>"
      ],
      "text/plain": [
       "   PassengerId  Survived  Pclass  \\\n",
       "0            1         0       3   \n",
       "1            2         1       1   \n",
       "2            3         1       3   \n",
       "3            4         1       1   \n",
       "4            5         0       3   \n",
       "\n",
       "                                                Name  Sex   Age  SibSp  Parch  \\\n",
       "0                            Braund, Mr. Owen Harris    1  22.0      1      0   \n",
       "1  Cumings, Mrs. John Bradley (Florence Briggs Th...    0  38.0      1      0   \n",
       "2                             Heikkinen, Miss. Laina    0  26.0      0      0   \n",
       "3       Futrelle, Mrs. Jacques Heath (Lily May Peel)    0  35.0      1      0   \n",
       "4                           Allen, Mr. William Henry    1  35.0      0      0   \n",
       "\n",
       "             Ticket     Fare  Embarked  \n",
       "0         A/5 21171   7.2500         2  \n",
       "1          PC 17599  71.2833         0  \n",
       "2  STON/O2. 3101282   7.9250         2  \n",
       "3            113803  53.1000         2  \n",
       "4            373450   8.0500         2  "
      ]
     },
     "execution_count": 18,
     "metadata": {},
     "output_type": "execute_result"
    }
   ],
   "source": [
    "for col in predictors: # Loop through all columns in predictors\n",
    "    if titanic[col].dtype == 'object':  # check if column's type is object (text)\n",
    "        titanic[col] = pd.Categorical(titanic[col]).codes  # convert text to numerical\n",
    "\n",
    "titanic.head()"
   ]
  },
  {
   "cell_type": "markdown",
   "metadata": {},
   "source": [
    "#### NB : \n",
    "##### Sex : 1 for male and 0 for female\n",
    "##### Embarked : 0 for Cherbourg, 1 for Queenston and 2 for Southampton"
   ]
  },
  {
   "cell_type": "code",
   "execution_count": 19,
   "metadata": {
    "id": "7CvWSj-k9Xcr"
   },
   "outputs": [
    {
     "name": "stdout",
     "output_type": "stream",
     "text": [
      "train shape (623, 7) (623,)\n",
      "test shape (268, 7) (268,)\n"
     ]
    }
   ],
   "source": [
    "# Split the data into a training set and a testing set. Set: test_size=0.3, random_state=1\n",
    "from sklearn.model_selection import train_test_split\n",
    "\n",
    "X = titanic[predictors]\n",
    "y = titanic[\"Survived\"]\n",
    "\n",
    "X_train,X_test,y_train,y_test = train_test_split(X,y,test_size=0.3 , random_state = 1)\n",
    "\n",
    "print (\"train shape\", X_train.shape, y_train.shape)\n",
    "print (\"test shape\", X_test.shape, y_test.shape)"
   ]
  },
  {
   "cell_type": "code",
   "execution_count": 20,
   "metadata": {
    "id": "KBjnYcSk9Xcr"
   },
   "outputs": [
    {
     "name": "stdout",
     "output_type": "stream",
     "text": [
      "train accuracy = 0.8073836276083467\n",
      "test accuracy = 0.7723880597014925\n"
     ]
    }
   ],
   "source": [
    "# import LogisticRegression from: http://scikit-learn.org/stable/modules/generated/sklearn.linear_model.LogisticRegression.html\n",
    "from sklearn.linear_model import LogisticRegression\n",
    "\n",
    "\n",
    "clf = LogisticRegression(random_state=1)\n",
    "\n",
    "clf.fit(X_train, y_train)\n",
    "\n",
    "train_score = clf.score(X_train, y_train)\n",
    "test_score = clf.score(X_test, y_test)\n",
    "print ('train accuracy =', train_score)\n",
    "print ('test accuracy =', test_score)"
   ]
  },
  {
   "cell_type": "markdown",
   "metadata": {},
   "source": [
    "#### Comment\n",
    "##### Results are pretty similar to be honest"
   ]
  },
  {
   "cell_type": "markdown",
   "metadata": {
    "id": "3h_lLo9L9Xcs"
   },
   "source": [
    "Let's print the model's parameters"
   ]
  },
  {
   "cell_type": "code",
   "execution_count": 21,
   "metadata": {
    "id": "g8O0eXo-9Xcs"
   },
   "outputs": [
    {
     "name": "stdout",
     "output_type": "stream",
     "text": [
      "     Feature  Coefficient Estimate\n",
      "0     Pclass             -1.158693\n",
      "1        Sex             -2.708761\n",
      "2        Age             -0.040634\n",
      "3      SibSp             -0.334012\n",
      "4      Parch              0.071939\n",
      "5       Fare             -0.000570\n",
      "6   Embarked             -0.223307\n",
      "7  Intercept              5.391545\n"
     ]
    }
   ],
   "source": [
    "coeff = pd.DataFrame()\n",
    "coeff['Feature'] = X_train.columns\n",
    "coeff['Coefficient Estimate'] = pd.Series(clf.coef_[0])\n",
    "coeff.loc[len(coeff)]=['Intercept',clf.intercept_[0]]\n",
    "print (coeff)"
   ]
  },
  {
   "cell_type": "markdown",
   "metadata": {},
   "source": [
    "#### Comment\n",
    "#### If the coefficient is negative, it's because the independent variable (\"Survived\") has a negative effect to the dependent variables (predictors), which means when the independant variable increases, the dependent variable decreases and inversely"
   ]
  },
  {
   "cell_type": "markdown",
   "metadata": {
    "id": "qqGOuOla9Xcs"
   },
   "source": [
    "We now need to predict class labels for the test set. We will also generate the class probabilities"
   ]
  },
  {
   "cell_type": "code",
   "execution_count": 22,
   "metadata": {
    "id": "XP9i5RY89Xcs"
   },
   "outputs": [
    {
     "name": "stdout",
     "output_type": "stream",
     "text": [
      "[1 0 1 1 1 0 0 1 1 1 0 1 0 0 1 0 0 0 0 1 0 0 1 0 1 0 1 1 0 1 1 0 0 1 0 1 0\n",
      " 0 1 0 1 1 1 0 1 0 0 0 0 0 0 1 0 0 0 1 0 0 0 1 0 0 0 0 0 1 0 0 1 0 0 0 0 0\n",
      " 1 0 1 0 0 1 0 0 0 0 1 0 0 0 1 1 0 0 0 1 0 1 0 1 0 0 1 0 0 1 1 0 0 0 0 0 0\n",
      " 0 0 0 0 0 0 0 1 1 1 0 0 0 1 1 1 1 0 0 0 0 1 1 0 1 1 0 0 1 1 0 1 1 0 1 0 0\n",
      " 1 0 1 0 0 1 0 0 0 0 1 0 0 0 1 0 0 1 1 0 0 0 1 1 1 0 1 0 0 0 1 0 1 1 0 0 1\n",
      " 0 0 1 0 1 0 0 1 1 1 1 0 1 0 0 0 1 0 0 0 1 1 0 0 0 1 0 0 0 0 0 0 1 1 0 0 0\n",
      " 0 0 0 0 1 0 1 0 0 0 0 0 0 1 1 1 1 0 0 0 0 0 0 0 1 1 0 1 0 0 0 1 1 1 0 1 0\n",
      " 1 1 0 1 1 0 0 1 0]\n"
     ]
    }
   ],
   "source": [
    "# predict class labels for the test set\n",
    "y_pred = clf.predict(X_test)\n",
    "print (y_pred)"
   ]
  },
  {
   "cell_type": "code",
   "execution_count": 23,
   "metadata": {
    "id": "YcyX1vod9Xcs"
   },
   "outputs": [
    {
     "name": "stdout",
     "output_type": "stream",
     "text": [
      "[[0.13931138 0.86068862]\n",
      " [0.91545699 0.08454301]\n",
      " [0.12666421 0.87333579]\n",
      " [0.36591842 0.63408158]\n",
      " [0.07784301 0.92215699]\n",
      " [0.89067951 0.10932049]\n",
      " [0.80772606 0.19227394]\n",
      " [0.11922783 0.88077217]\n",
      " [0.49862954 0.50137046]\n",
      " [0.44730682 0.55269318]\n",
      " [0.90553194 0.09446806]\n",
      " [0.39942792 0.60057208]\n",
      " [0.75883959 0.24116041]\n",
      " [0.7731844  0.2268156 ]\n",
      " [0.36586717 0.63413283]\n",
      " [0.51884413 0.48115587]\n",
      " [0.92555342 0.07444658]\n",
      " [0.92813017 0.07186983]\n",
      " [0.93745225 0.06254775]\n",
      " [0.23336019 0.76663981]\n",
      " [0.92721772 0.07278228]\n",
      " [0.89953162 0.10046838]\n",
      " [0.03807373 0.96192627]\n",
      " [0.70151645 0.29848355]\n",
      " [0.27209457 0.72790543]\n",
      " [0.91229352 0.08770648]\n",
      " [0.06263097 0.93736903]\n",
      " [0.2862834  0.7137166 ]\n",
      " [0.75835591 0.24164409]\n",
      " [0.05700657 0.94299343]\n",
      " [0.36148881 0.63851119]\n",
      " [0.51940626 0.48059374]\n",
      " [0.52697857 0.47302143]\n",
      " [0.47141328 0.52858672]\n",
      " [0.93503277 0.06496723]\n",
      " [0.48609827 0.51390173]\n",
      " [0.59876817 0.40123183]\n",
      " [0.91543125 0.08456875]\n",
      " [0.46440486 0.53559514]\n",
      " [0.88665973 0.11334027]\n",
      " [0.40921408 0.59078592]\n",
      " [0.37536578 0.62463422]\n",
      " [0.17017258 0.82982742]\n",
      " [0.68732007 0.31267993]\n",
      " [0.38994383 0.61005617]\n",
      " [0.93499757 0.06500243]\n",
      " [0.96230482 0.03769518]\n",
      " [0.8420226  0.1579774 ]\n",
      " [0.54739987 0.45260013]\n",
      " [0.67641528 0.32358472]\n",
      " [0.68588152 0.31411848]\n",
      " [0.1457608  0.8542392 ]\n",
      " [0.7025036  0.2974964 ]\n",
      " [0.8249177  0.1750823 ]\n",
      " [0.91861765 0.08138235]\n",
      " [0.46242401 0.53757599]\n",
      " [0.77998673 0.22001327]\n",
      " [0.80527981 0.19472019]\n",
      " [0.94357588 0.05642412]\n",
      " [0.34271167 0.65728833]\n",
      " [0.90350277 0.09649723]\n",
      " [0.87382042 0.12617958]\n",
      " [0.76239268 0.23760732]\n",
      " [0.68269643 0.31730357]\n",
      " [0.59481955 0.40518045]\n",
      " [0.29478283 0.70521717]\n",
      " [0.86726861 0.13273139]\n",
      " [0.86535402 0.13464598]\n",
      " [0.18945432 0.81054568]\n",
      " [0.89143824 0.10856176]\n",
      " [0.94769379 0.05230621]\n",
      " [0.95670746 0.04329254]\n",
      " [0.5963371  0.4036629 ]\n",
      " [0.91545699 0.08454301]\n",
      " [0.42423355 0.57576645]\n",
      " [0.76448445 0.23551555]\n",
      " [0.119162   0.880838  ]\n",
      " [0.89648571 0.10351429]\n",
      " [0.70048652 0.29951348]\n",
      " [0.04365583 0.95634417]\n",
      " [0.91121821 0.08878179]\n",
      " [0.99293509 0.00706491]\n",
      " [0.91546379 0.08453621]\n",
      " [0.93246397 0.06753603]\n",
      " [0.1060524  0.8939476 ]\n",
      " [0.91861694 0.08138306]\n",
      " [0.91546379 0.08453621]\n",
      " [0.87382015 0.12617985]\n",
      " [0.49623724 0.50376276]\n",
      " [0.40263047 0.59736953]\n",
      " [0.6999187  0.3000813 ]\n",
      " [0.87391362 0.12608638]\n",
      " [0.88461374 0.11538626]\n",
      " [0.36586717 0.63413283]\n",
      " [0.91552774 0.08447226]\n",
      " [0.42818755 0.57181245]\n",
      " [0.97445535 0.02554465]\n",
      " [0.31570205 0.68429795]\n",
      " [0.88251409 0.11748591]\n",
      " [0.91545699 0.08454301]\n",
      " [0.4100491  0.5899509 ]\n",
      " [0.61458278 0.38541722]\n",
      " [0.90041203 0.09958797]\n",
      " [0.22308928 0.77691072]\n",
      " [0.02604362 0.97395638]\n",
      " [0.89841629 0.10158371]\n",
      " [0.91855583 0.08144417]\n",
      " [0.91854837 0.08145163]\n",
      " [0.94327158 0.05672842]\n",
      " [0.95033325 0.04966675]\n",
      " [0.69708259 0.30291741]\n",
      " [0.8444035  0.1555965 ]\n",
      " [0.88483767 0.11516233]\n",
      " [0.9304876  0.0695124 ]\n",
      " [0.73559737 0.26440263]\n",
      " [0.92990718 0.07009282]\n",
      " [0.83279775 0.16720225]\n",
      " [0.63316868 0.36683132]\n",
      " [0.30663778 0.69336222]\n",
      " [0.44911509 0.55088491]\n",
      " [0.24214454 0.75785546]\n",
      " [0.79297849 0.20702151]\n",
      " [0.91545699 0.08454301]\n",
      " [0.69406319 0.30593681]\n",
      " [0.07066798 0.92933202]\n",
      " [0.04755758 0.95244242]\n",
      " [0.18506811 0.81493189]\n",
      " [0.36112812 0.63887188]\n",
      " [0.99293509 0.00706491]\n",
      " [0.89648571 0.10351429]\n",
      " [0.9019982  0.0980018 ]\n",
      " [0.95401327 0.04598673]\n",
      " [0.21790299 0.78209701]\n",
      " [0.40534815 0.59465185]\n",
      " [0.70747292 0.29252708]\n",
      " [0.14276065 0.85723935]\n",
      " [0.04096157 0.95903843]\n",
      " [0.9444573  0.0555427 ]\n",
      " [0.90962263 0.09037737]\n",
      " [0.37052497 0.62947503]\n",
      " [0.0762899  0.9237101 ]\n",
      " [0.94471616 0.05528384]\n",
      " [0.04932137 0.95067863]\n",
      " [0.41909004 0.58090996]\n",
      " [0.91545166 0.08454834]\n",
      " [0.40292781 0.59707219]\n",
      " [0.79361534 0.20638466]\n",
      " [0.91546379 0.08453621]\n",
      " [0.38923588 0.61076412]\n",
      " [0.89457591 0.10542409]\n",
      " [0.18961413 0.81038587]\n",
      " [0.9619835  0.0380165 ]\n",
      " [0.91517927 0.08482073]\n",
      " [0.31135493 0.68864507]\n",
      " [0.91757677 0.08242323]\n",
      " [0.92723455 0.07276545]\n",
      " [0.89454118 0.10545882]\n",
      " [0.9503033  0.0496967 ]\n",
      " [0.1631291  0.8368709 ]\n",
      " [0.73559737 0.26440263]\n",
      " [0.87363737 0.12636263]\n",
      " [0.91552774 0.08447226]\n",
      " [0.35179088 0.64820912]\n",
      " [0.52011775 0.47988225]\n",
      " [0.95117034 0.04882966]\n",
      " [0.27613713 0.72386287]\n",
      " [0.26098567 0.73901433]\n",
      " [0.91757677 0.08242323]\n",
      " [0.86928391 0.13071609]\n",
      " [0.67991503 0.32008497]\n",
      " [0.07456516 0.92543484]\n",
      " [0.45571942 0.54428058]\n",
      " [0.07461253 0.92538747]\n",
      " [0.90359915 0.09640085]\n",
      " [0.14425533 0.85574467]\n",
      " [0.51506458 0.48493542]\n",
      " [0.89648483 0.10351517]\n",
      " [0.8669579  0.1330421 ]\n",
      " [0.24876047 0.75123953]\n",
      " [0.94457124 0.05542876]\n",
      " [0.04827437 0.95172563]\n",
      " [0.22443573 0.77556427]\n",
      " [0.83814024 0.16185976]\n",
      " [0.93127958 0.06872042]\n",
      " [0.07674831 0.92325169]\n",
      " [0.69424474 0.30575526]\n",
      " [0.91546379 0.08453621]\n",
      " [0.05584452 0.94415548]\n",
      " [0.89648571 0.10351429]\n",
      " [0.08097667 0.91902333]\n",
      " [0.5221806  0.4778194 ]\n",
      " [0.68380065 0.31619935]\n",
      " [0.36586717 0.63413283]\n",
      " [0.21385596 0.78614404]\n",
      " [0.21772101 0.78227899]\n",
      " [0.10006189 0.89993811]\n",
      " [0.77188208 0.22811792]\n",
      " [0.13697135 0.86302865]\n",
      " [0.90378721 0.09621279]\n",
      " [0.80045628 0.19954372]\n",
      " [0.87377411 0.12622589]\n",
      " [0.28185841 0.71814159]\n",
      " [0.87382015 0.12617985]\n",
      " [0.64055226 0.35944774]\n",
      " [0.67216988 0.32783012]\n",
      " [0.16179713 0.83820287]\n",
      " [0.20825988 0.79174012]\n",
      " [0.75109821 0.24890179]\n",
      " [0.51884413 0.48115587]\n",
      " [0.96819807 0.03180193]\n",
      " [0.05269654 0.94730346]\n",
      " [0.93165801 0.06834199]\n",
      " [0.87604358 0.12395642]\n",
      " [0.77746925 0.22253075]\n",
      " [0.84945581 0.15054419]\n",
      " [0.93503221 0.06496779]\n",
      " [0.89643853 0.10356147]\n",
      " [0.04124999 0.95875001]\n",
      " [0.19534    0.80466   ]\n",
      " [0.77085866 0.22914134]\n",
      " [0.51933511 0.48066489]\n",
      " [0.87382015 0.12617985]\n",
      " [0.74132786 0.25867214]\n",
      " [0.72964248 0.27035752]\n",
      " [0.92394548 0.07605452]\n",
      " [0.70094168 0.29905832]\n",
      " [0.0441558  0.9558442 ]\n",
      " [0.51470902 0.48529098]\n",
      " [0.23425439 0.76574561]\n",
      " [0.70097317 0.29902683]\n",
      " [0.60811077 0.39188923]\n",
      " [0.83497749 0.16502251]\n",
      " [0.67771175 0.32228825]\n",
      " [0.81308544 0.18691456]\n",
      " [0.94205141 0.05794859]\n",
      " [0.39282348 0.60717652]\n",
      " [0.46814372 0.53185628]\n",
      " [0.33317338 0.66682662]\n",
      " [0.28618635 0.71381365]\n",
      " [0.92215561 0.07784439]\n",
      " [0.94286815 0.05713185]\n",
      " [0.8345797  0.1654203 ]\n",
      " [0.88251182 0.11748818]\n",
      " [0.92906437 0.07093563]\n",
      " [0.95096979 0.04903021]\n",
      " [0.92442747 0.07557253]\n",
      " [0.19105466 0.80894534]\n",
      " [0.22468391 0.77531609]\n",
      " [0.6500757  0.3499243 ]\n",
      " [0.09251536 0.90748464]\n",
      " [0.94833692 0.05166308]\n",
      " [0.90019623 0.09980377]\n",
      " [0.68228913 0.31771087]\n",
      " [0.40806752 0.59193248]\n",
      " [0.1956172  0.8043828 ]\n",
      " [0.27749953 0.72250047]\n",
      " [0.76966938 0.23033062]\n",
      " [0.27027966 0.72972034]\n",
      " [0.83450644 0.16549356]\n",
      " [0.44297794 0.55702206]\n",
      " [0.10338881 0.89661119]\n",
      " [0.92394548 0.07605452]\n",
      " [0.36586717 0.63413283]\n",
      " [0.14332538 0.85667462]\n",
      " [0.76730525 0.23269475]\n",
      " [0.80676685 0.19323315]\n",
      " [0.46946168 0.53053832]\n",
      " [0.7614374  0.2385626 ]]\n"
     ]
    }
   ],
   "source": [
    "# generate class probabilities : http://scikit-learn.org/stable/modules/generated/sklearn.linear_model.LogisticRegression.html\n",
    "y_probs = clf.predict_proba(X_test)\n",
    "print (y_probs)"
   ]
  },
  {
   "cell_type": "markdown",
   "metadata": {
    "id": "LZcfyRhp9Xcs"
   },
   "source": [
    "As you can see, the classifier outputs two probabilities for each row. It's predicting a 1 (Survived) any time the probability in the second column is greater than 0.5. Let's visualize it all together."
   ]
  },
  {
   "cell_type": "code",
   "execution_count": 24,
   "metadata": {},
   "outputs": [],
   "source": [
    "import numpy as np"
   ]
  },
  {
   "cell_type": "code",
   "execution_count": 25,
   "metadata": {
    "id": "NpLKax-J9Xcs"
   },
   "outputs": [
    {
     "data": {
      "text/html": [
       "<div>\n",
       "<style scoped>\n",
       "    .dataframe tbody tr th:only-of-type {\n",
       "        vertical-align: middle;\n",
       "    }\n",
       "\n",
       "    .dataframe tbody tr th {\n",
       "        vertical-align: top;\n",
       "    }\n",
       "\n",
       "    .dataframe thead th {\n",
       "        text-align: right;\n",
       "    }\n",
       "</style>\n",
       "<table border=\"1\" class=\"dataframe\">\n",
       "  <thead>\n",
       "    <tr style=\"text-align: right;\">\n",
       "      <th></th>\n",
       "      <th>Survived_original</th>\n",
       "      <th>Survived_predicted</th>\n",
       "      <th>Survived_proba</th>\n",
       "      <th>Comparison</th>\n",
       "    </tr>\n",
       "  </thead>\n",
       "  <tbody>\n",
       "    <tr>\n",
       "      <th>862</th>\n",
       "      <td>1</td>\n",
       "      <td>1</td>\n",
       "      <td>0.860689</td>\n",
       "      <td>True</td>\n",
       "    </tr>\n",
       "    <tr>\n",
       "      <th>223</th>\n",
       "      <td>0</td>\n",
       "      <td>0</td>\n",
       "      <td>0.084543</td>\n",
       "      <td>True</td>\n",
       "    </tr>\n",
       "    <tr>\n",
       "      <th>84</th>\n",
       "      <td>1</td>\n",
       "      <td>1</td>\n",
       "      <td>0.873336</td>\n",
       "      <td>True</td>\n",
       "    </tr>\n",
       "    <tr>\n",
       "      <th>680</th>\n",
       "      <td>0</td>\n",
       "      <td>1</td>\n",
       "      <td>0.634082</td>\n",
       "      <td>False</td>\n",
       "    </tr>\n",
       "    <tr>\n",
       "      <th>535</th>\n",
       "      <td>1</td>\n",
       "      <td>1</td>\n",
       "      <td>0.922157</td>\n",
       "      <td>True</td>\n",
       "    </tr>\n",
       "  </tbody>\n",
       "</table>\n",
       "</div>"
      ],
      "text/plain": [
       "     Survived_original  Survived_predicted  Survived_proba  Comparison\n",
       "862                  1                   1        0.860689        True\n",
       "223                  0                   0        0.084543        True\n",
       "84                   1                   1        0.873336        True\n",
       "680                  0                   1        0.634082       False\n",
       "535                  1                   1        0.922157        True"
      ]
     },
     "execution_count": 25,
     "metadata": {},
     "output_type": "execute_result"
    }
   ],
   "source": [
    "pred = pd.DataFrame({        \n",
    "        \"Survived_original\": y_test,\n",
    "        \"Survived_predicted\": y_pred,\n",
    "        \"Survived_proba\": np.transpose(y_probs)[1]      \n",
    "        })\n",
    "pred[\"Comparison\"]= pred.Survived_original ==pred.Survived_predicted\n",
    "pred.head()"
   ]
  },
  {
   "cell_type": "markdown",
   "metadata": {
    "id": "Phow9sQf9Xct"
   },
   "source": [
    "## Confusion matrix"
   ]
  },
  {
   "cell_type": "code",
   "execution_count": 26,
   "metadata": {
    "id": "5uI53Euc9Xct"
   },
   "outputs": [
    {
     "name": "stdout",
     "output_type": "stream",
     "text": [
      "[[129  24]\n",
      " [ 37  78]]\n",
      "              precision    recall  f1-score   support\n",
      "\n",
      "           0       0.78      0.84      0.81       153\n",
      "           1       0.76      0.68      0.72       115\n",
      "\n",
      "    accuracy                           0.77       268\n",
      "   macro avg       0.77      0.76      0.76       268\n",
      "weighted avg       0.77      0.77      0.77       268\n",
      "\n"
     ]
    }
   ],
   "source": [
    "from sklearn import metrics\n",
    "print (metrics.confusion_matrix(y_test, y_pred))\n",
    "print (metrics.classification_report(y_test, y_pred))"
   ]
  },
  {
   "cell_type": "markdown",
   "metadata": {
    "id": "Uvm8Z-pM9Xct"
   },
   "source": [
    "As you can see, we can have the classification report for each class"
   ]
  },
  {
   "cell_type": "markdown",
   "metadata": {
    "id": "lOBU4czd9Xct"
   },
   "source": [
    "## K-Fold Cross Validation"
   ]
  },
  {
   "cell_type": "code",
   "execution_count": 27,
   "metadata": {
    "id": "vY5Jyd6E9Xct"
   },
   "outputs": [
    {
     "name": "stdout",
     "output_type": "stream",
     "text": [
      "[0.7877095  0.78651685 0.78089888 0.76966292 0.82022472]\n",
      "0.7890025735986442\n"
     ]
    }
   ],
   "source": [
    "# import cross_validation from: http://scikit-learn.org/stable/modules/generated/sklearn.model_selection.cross_val_score.html\n",
    "from sklearn.model_selection import cross_validate, cross_val_score\n",
    "\n",
    "\n",
    "clf = LogisticRegression(random_state=1)\n",
    "scores = cross_val_score(clf, titanic[predictors], titanic[\"Survived\"], scoring='accuracy', cv=5)\n",
    "## see model \n",
    "print(scores)\n",
    "# Take the mean of the scores (because we have one for each fold)\n",
    "print(scores.mean())"
   ]
  },
  {
   "cell_type": "markdown",
   "metadata": {
    "id": "wzBrwUE_9Xct"
   },
   "source": [
    "When you are improving a model, you want to make sur that you are really doing it and not just being lucky. This is why it's good to work with cross validation instead of one train/test split."
   ]
  },
  {
   "cell_type": "markdown",
   "metadata": {},
   "source": [
    "#### Comment :\n",
    "##### We can see that even if we are using one train/test split or a cross validation, we are getting almost the same results, that's a good sign"
   ]
  }
 ],
 "metadata": {
  "anaconda-cloud": {},
  "colab": {
   "collapsed_sections": [],
   "name": "Lab3-[Logistic Regression]-Titanic.ipynb",
   "provenance": []
  },
  "interpreter": {
   "hash": "397704579725e15f5c7cb49fe5f0341eb7531c82d19f2c29d197e8b64ab5776b"
  },
  "kernelspec": {
   "display_name": "Python 3.9.6 64-bit",
   "language": "python",
   "name": "python3"
  },
  "language_info": {
   "codemirror_mode": {
    "name": "ipython",
    "version": 3
   },
   "file_extension": ".py",
   "mimetype": "text/x-python",
   "name": "python",
   "nbconvert_exporter": "python",
   "pygments_lexer": "ipython3",
   "version": "3.9.9"
  }
 },
 "nbformat": 4,
 "nbformat_minor": 4
}
