{
  "cells": [
    {
      "cell_type": "markdown",
      "metadata": {
        "id": "UpG7Nd4v9Xca"
      },
      "source": [
        "# Predict survival on the Titanic\n",
        "In this Lab, we ask you to apply the tools of machine learning to predict which passengers survived the tragedy"
      ]
    },
    {
      "cell_type": "markdown",
      "metadata": {
        "id": "PzbOp32s9Xcf"
      },
      "source": [
        "### Dataset\n",
        "The dataset contains 891 observations of 12 variables:\n",
        "* **PassengerId**: Unique ID for each passenger\n",
        "* **Survived**: Survival (0 = No; 1 = Yes)\n",
        "* **Pclass**: Passenger Class (1 = 1st; 2 = 2nd; 3 = 3rd)\n",
        "* **Name**: Name\n",
        "* **Sex**: Sex\n",
        "* **Age**: Age\n",
        "* **Sibsp**: Number of Siblings/Spouses Aboard\n",
        "* **Parch**: Number of Parents/Children Aboard\n",
        "* **Ticket**: Ticket Number\n",
        "* **Fare**: Passenger Fare\n",
        "* **Cabin**: Cabin\n",
        "* **Embarked** Port of Embarkation (C = Cherbourg; Q = Queenstown; S = Southampton)"
      ]
    },
    {
      "cell_type": "code",
      "execution_count": null,
      "metadata": {},
      "outputs": [
        {
          "ename": "",
          "evalue": "",
          "output_type": "error",
          "traceback": [
            "\u001b[1;31mFailed to start Jupyter in the environment 'Python 3.9.9 64-bit (/usr/local/bin/python3.9)'. \n",
            "ImportError: The Jupyter Notebook requires tornado >= 5.0, but you have 4.5.3 \n",
            "View Jupyter <a href='command:jupyter.viewOutput'>log</a> for further details."
          ]
        }
      ],
      "source": [
        "%pip install jupyterlab"
      ]
    },
    {
      "cell_type": "code",
      "execution_count": null,
      "metadata": {
        "id": "O5Ma0kpBh4IA"
      },
      "outputs": [
        {
          "ename": "",
          "evalue": "",
          "output_type": "error",
          "traceback": [
            "\u001b[1;31mFailed to start Jupyter in the environment 'Python 3.9.9 64-bit (/usr/local/bin/python3.9)'. \n",
            "ImportError: The Jupyter Notebook requires tornado >= 5.0, but you have 4.5.3 \n",
            "View Jupyter <a href='command:jupyter.viewOutput'>log</a> for further details."
          ]
        }
      ],
      "source": [
        "import os\n",
        "from google.colab import drive\n",
        "drive.mount('/content/drive', force_remount=False)"
      ]
    },
    {
      "cell_type": "code",
      "execution_count": null,
      "metadata": {
        "collapsed": true,
        "id": "p4ZCTpyI9Xch"
      },
      "outputs": [],
      "source": [
        "# imports\n",
        "import warnings\n",
        "warnings.filterwarnings('ignore')\n",
        "# your code here"
      ]
    },
    {
      "cell_type": "code",
      "execution_count": null,
      "metadata": {
        "collapsed": true,
        "id": "3Kn5vXEB9Xcj"
      },
      "outputs": [],
      "source": [
        "titanic = # your code here\n",
        "titanic.head()"
      ]
    },
    {
      "cell_type": "code",
      "execution_count": null,
      "metadata": {
        "collapsed": true,
        "id": "5R3HTRZ29Xck"
      },
      "outputs": [],
      "source": [
        "# print some info about the dataframe\n",
        "# your code here"
      ]
    },
    {
      "cell_type": "markdown",
      "metadata": {
        "id": "eaeMDHTJ9Xck"
      },
      "source": [
        "Looks like there are some Nan values, let's see how many for each column"
      ]
    },
    {
      "cell_type": "code",
      "execution_count": null,
      "metadata": {
        "collapsed": true,
        "id": "5AI_2olL9Xck"
      },
      "outputs": [],
      "source": [
        "titanic.isnull().sum()"
      ]
    },
    {
      "cell_type": "markdown",
      "metadata": {
        "id": "rsjzeWQA9Xcl"
      },
      "source": [
        "**Cabin** contains a lot of Nan values, we'll drop this column <br>\n",
        "We'll replace the Nan values in **Age** with the age's median, and the ones in **Embarked** with **'S'**, which is the most frequent one in this column"
      ]
    },
    {
      "cell_type": "code",
      "execution_count": null,
      "metadata": {
        "collapsed": true,
        "id": "fg6Yzqkc9Xcm"
      },
      "outputs": [],
      "source": [
        "# your code here to drop Cabin\n",
        "# check the fillna documentation: http://pandas.pydata.org/pandas-docs/stable/generated/pandas.DataFrame.fillna.html\n",
        "titanic[\"Age\"]= titanic[\"Age\"].fillna(# your code here)\n",
        "titanic[\"Embarked\"].fillna(# your code here)\n",
        "titanic.isnull().sum()"
      ]
    },
    {
      "cell_type": "markdown",
      "metadata": {
        "id": "8lO-sbAc9Xcn"
      },
      "source": [
        "## Visualization"
      ]
    },
    {
      "cell_type": "code",
      "execution_count": null,
      "metadata": {
        "collapsed": true,
        "id": "pPZdkF3K9Xcn"
      },
      "outputs": [],
      "source": [
        "%matplotlib inline\n",
        "import matplotlib.pyplot as plt\n",
        "print ('survival rate =', titanic.Survived.mean())\n",
        "(titanic.groupby('Survived').size()/titanic.shape[0]).plot(kind=\"bar\",title=\"Label's Balance\")\n"
      ]
    },
    {
      "cell_type": "code",
      "execution_count": null,
      "metadata": {
        "collapsed": true,
        "id": "mVjSojhJ9Xco"
      },
      "outputs": [],
      "source": [
        "# make a function to plot survival against passenger attribute\n",
        "def survival_rate(column,t):\n",
        "    df=pd.DataFrame()\n",
        "    df['total']=titanic.groupby(column).size()\n",
        "    df['survived'] = titanic.groupby(column).sum()['Survived']\n",
        "    df['percentage'] = round(df['survived']/df['total']*100,2)\n",
        "    print(df)\n",
        "\n",
        "    df['survived'].plot(kind=t)\n",
        "    df['total'].plot(kind=t,alpha=0.5,title=\"Survivors per \"+str(column))\n",
        "    plt.show()"
      ]
    },
    {
      "cell_type": "code",
      "execution_count": null,
      "metadata": {
        "collapsed": true,
        "id": "e9Ds55q79Xco"
      },
      "outputs": [],
      "source": [
        "# Draw survival per Sex\n",
        "survival_rate(\"Sex\",\"barh\")"
      ]
    },
    {
      "cell_type": "code",
      "execution_count": null,
      "metadata": {
        "collapsed": true,
        "id": "ESv52uFP9Xcp"
      },
      "outputs": [],
      "source": [
        "# Draw survival per Class\n",
        "survival_rate(\"Pclass\",\"barh\")"
      ]
    },
    {
      "cell_type": "code",
      "execution_count": null,
      "metadata": {
        "collapsed": true,
        "id": "YrTGe5Yw9Xcp"
      },
      "outputs": [],
      "source": [
        "# Graph survived per port of embarkation\n",
        "survival_rate(\"Embarked\",\"bar\")"
      ]
    },
    {
      "cell_type": "code",
      "execution_count": null,
      "metadata": {
        "collapsed": true,
        "id": "HMoRYtzq9Xcp"
      },
      "outputs": [],
      "source": [
        "# Draw survived per Number of Parents/Children Aboard (Parch)\n",
        "# your code here"
      ]
    },
    {
      "cell_type": "code",
      "execution_count": null,
      "metadata": {
        "collapsed": true,
        "id": "FN4wuUhv9Xcp"
      },
      "outputs": [],
      "source": [
        "# Draw survived per Number of Siblings/Spouses Aboard (SibSp)\n",
        "# your code here"
      ]
    },
    {
      "cell_type": "markdown",
      "metadata": {
        "id": "-fEc4HUu9Xcq"
      },
      "source": [
        "## Model training"
      ]
    },
    {
      "cell_type": "markdown",
      "metadata": {
        "id": "SpAeGxFl9Xcq"
      },
      "source": [
        "Some of the columns don't have predictive power, so let's specify which ones are included for prediction"
      ]
    },
    {
      "cell_type": "code",
      "execution_count": null,
      "metadata": {
        "collapsed": true,
        "id": "ZFt_bUDH9Xcq"
      },
      "outputs": [],
      "source": [
        "predictors = [\"Pclass\", \"Sex\", \"Age\", 'SibSp' ,'Parch', \"Fare\", \"Embarked\"]  "
      ]
    },
    {
      "cell_type": "markdown",
      "metadata": {
        "id": "4QReR82E9Xcq"
      },
      "source": [
        "We need now to convert text columns in **predictors** to numerical ones"
      ]
    },
    {
      "cell_type": "code",
      "execution_count": null,
      "metadata": {
        "collapsed": true,
        "id": "XxK-7mYN9Xcr"
      },
      "outputs": [],
      "source": [
        "for col in predictors: # Loop through all columns in predictors\n",
        "    if titanic[col].dtype == 'object':  # check if column's type is object (text)\n",
        "        titanic[col] = pd.Categorical(titanic[col]).codes  # convert text to numerical\n",
        "\n",
        "titanic.head()"
      ]
    },
    {
      "cell_type": "code",
      "execution_count": null,
      "metadata": {
        "collapsed": true,
        "id": "7CvWSj-k9Xcr"
      },
      "outputs": [],
      "source": [
        "# Split the data into a training set and a testing set. Set: test_size=0.3, random_state=1\n",
        "# your code here\n",
        "\n",
        "print (\"train shape\", X_train.shape, y_train.shape)\n",
        "print (\"test shape\", X_test.shape, y_test.shape)"
      ]
    },
    {
      "cell_type": "code",
      "execution_count": null,
      "metadata": {
        "collapsed": true,
        "id": "KBjnYcSk9Xcr"
      },
      "outputs": [],
      "source": [
        "# import LogisticRegression from: http://scikit-learn.org/stable/modules/generated/sklearn.linear_model.LogisticRegression.html\n",
        "# your code here\n",
        "clf = LogisticRegression(random_state=1)\n",
        "# your code here\n",
        "train_score = # your code here\n",
        "test_score = # your code here\n",
        "print ('train accuracy =', train_score)\n",
        "print ('test accuracy =', test_score)"
      ]
    },
    {
      "cell_type": "markdown",
      "metadata": {
        "id": "3h_lLo9L9Xcs"
      },
      "source": [
        "Let's print the model's parameters"
      ]
    },
    {
      "cell_type": "code",
      "execution_count": null,
      "metadata": {
        "collapsed": true,
        "id": "g8O0eXo-9Xcs"
      },
      "outputs": [],
      "source": [
        "coeff = pd.DataFrame()\n",
        "coeff['Feature'] = X_train.columns\n",
        "coeff['Coefficient Estimate'] = pd.Series(clf.coef_[0])\n",
        "coeff.loc[len(coeff)]=['Intercept',clf.intercept_[0]]\n",
        "print (coeff)"
      ]
    },
    {
      "cell_type": "markdown",
      "metadata": {
        "id": "qqGOuOla9Xcs"
      },
      "source": [
        "We now need to predict class labels for the test set. We will also generate the class probabilities"
      ]
    },
    {
      "cell_type": "code",
      "execution_count": null,
      "metadata": {
        "collapsed": true,
        "id": "XP9i5RY89Xcs"
      },
      "outputs": [],
      "source": [
        "# predict class labels for the test set\n",
        "y_pred = # your code here\n",
        "print (y_pred)"
      ]
    },
    {
      "cell_type": "code",
      "execution_count": null,
      "metadata": {
        "collapsed": true,
        "id": "YcyX1vod9Xcs"
      },
      "outputs": [],
      "source": [
        "# generate class probabilities : http://scikit-learn.org/stable/modules/generated/sklearn.linear_model.LogisticRegression.html\n",
        "y_probs = # your code here\n",
        "print (y_probs)"
      ]
    },
    {
      "cell_type": "markdown",
      "metadata": {
        "id": "LZcfyRhp9Xcs"
      },
      "source": [
        "As you can see, the classifier outputs two probabilities for each row. It's predicting a 1 (Survived) any time the probability in the second column is greater than 0.5. Let's visualize it all together."
      ]
    },
    {
      "cell_type": "code",
      "execution_count": null,
      "metadata": {
        "collapsed": true,
        "id": "NpLKax-J9Xcs"
      },
      "outputs": [],
      "source": [
        "pred = pd.DataFrame({        \n",
        "        \"Survived_original\": y_test,\n",
        "        \"Survived_predicted\": y_pred,\n",
        "        \"Survived_proba\": np.transpose(y_probs)[1]      \n",
        "        })\n",
        "pred[\"Comparison\"]= pred.Survived_original ==pred.Survived_predicted\n",
        "pred.head()"
      ]
    },
    {
      "cell_type": "markdown",
      "metadata": {
        "id": "Phow9sQf9Xct"
      },
      "source": [
        "## Confusion matrix"
      ]
    },
    {
      "cell_type": "code",
      "execution_count": null,
      "metadata": {
        "collapsed": true,
        "id": "5uI53Euc9Xct"
      },
      "outputs": [],
      "source": [
        "from sklearn import metrics\n",
        "print (metrics.confusion_matrix(y_test, y_pred))\n",
        "print (metrics.classification_report(y_test, y_pred))"
      ]
    },
    {
      "cell_type": "markdown",
      "metadata": {
        "id": "Uvm8Z-pM9Xct"
      },
      "source": [
        "As you can see, we can have the classification report for each class"
      ]
    },
    {
      "cell_type": "markdown",
      "metadata": {
        "id": "lOBU4czd9Xct"
      },
      "source": [
        "## K-Fold Cross Validation"
      ]
    },
    {
      "cell_type": "code",
      "execution_count": null,
      "metadata": {
        "collapsed": true,
        "id": "vY5Jyd6E9Xct"
      },
      "outputs": [],
      "source": [
        "# import cross_validation from: http://scikit-learn.org/stable/modules/generated/sklearn.model_selection.cross_val_score.html\n",
        "# your code here\n",
        "clf = LogisticRegression(random_state=1)\n",
        "scores = cross_validation.cross_val_score(clf, titanic[predictors], titanic[\"Survived\"], scoring='accuracy', cv=5)\n",
        "## see model \n",
        "print(scores)\n",
        "# Take the mean of the scores (because we have one for each fold)\n",
        "print(scores.mean())"
      ]
    },
    {
      "cell_type": "markdown",
      "metadata": {
        "collapsed": true,
        "id": "wzBrwUE_9Xct"
      },
      "source": [
        "When you are improving a model, you want to make sur that you are really doing it and not just being lucky. This is why it's good to work with cross validation instead of one train/test split."
      ]
    },
    {
      "cell_type": "code",
      "execution_count": null,
      "metadata": {
        "collapsed": true,
        "id": "TE4z7B6g9Xcu"
      },
      "outputs": [],
      "source": [
        "     "
      ]
    }
  ],
  "metadata": {
    "anaconda-cloud": {},
    "colab": {
      "collapsed_sections": [],
      "name": "Lab3-[Logistic Regression]-Titanic.ipynb",
      "provenance": []
    },
    "interpreter": {
      "hash": "397704579725e15f5c7cb49fe5f0341eb7531c82d19f2c29d197e8b64ab5776b"
    },
    "kernelspec": {
      "display_name": "ml_week2",
      "language": "python",
      "name": "python3"
    },
    "language_info": {
      "codemirror_mode": {
        "name": "ipython",
        "version": 3
      },
      "file_extension": ".py",
      "mimetype": "text/x-python",
      "name": "python",
      "nbconvert_exporter": "python",
      "pygments_lexer": "ipython3",
      "version": "3.9.9"
    }
  },
  "nbformat": 4,
  "nbformat_minor": 0
}
